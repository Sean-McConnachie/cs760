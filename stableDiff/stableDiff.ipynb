{
 "cells": [
  {
   "cell_type": "code",
   "execution_count": 8,
   "id": "3c1a28be",
   "metadata": {},
   "outputs": [
    {
     "name": "stdout",
     "output_type": "stream",
     "text": [
      "cwd: /home/dude-desktop/dev/cs760\n"
     ]
    }
   ],
   "source": [
    "import os\n",
    "os.chdir(\"..\")  # go to project root\n",
    "print(f\"cwd: {os.getcwd()}\")  # sanity check"
   ]
  },
  {
   "cell_type": "code",
   "execution_count": 9,
   "id": "2ef05a28",
   "metadata": {},
   "outputs": [],
   "source": [
    "import cv2\n",
    "import numpy as np\n",
    "import torch\n",
    "from diffusers import StableDiffusionInpaintPipeline\n",
    "from PIL import Image\n",
    "from tqdm import tqdm\n"
   ]
  },
  {
   "cell_type": "code",
   "execution_count": null,
   "id": "8b16096e",
   "metadata": {},
   "outputs": [
    {
     "name": "stdout",
     "output_type": "stream",
     "text": [
      "Loaded 78 frames from video and mask.\n"
     ]
    }
   ],
   "source": [
    "def inpaint_video_borders(video_path, mask_path, output_path, prompt, batch_size=64):\n",
    "    assert os.path.exists(video_path), f\"Video path {video_path} does not exist.\"\n",
    "    assert os.path.exists(mask_path), f\"Mask path {mask_path} does not exist\"\n",
    "    # loading video and mask with opencv\n",
    "    video_capture = cv2.VideoCapture(video_path)\n",
    "    mask_capture = cv2.VideoCapture(mask_path)\n",
    "\n",
    "    fps = video_capture.get(cv2.CAP_PROP_FPS)\n",
    "    width = int(video_capture.get(cv2.CAP_PROP_FRAME_WIDTH))\n",
    "    height = int(video_capture.get(cv2.CAP_PROP_FRAME_HEIGHT))\n",
    "\n",
    "    frames = []\n",
    "    while True:\n",
    "        ret, frame = video_capture.read()\n",
    "        if not ret:\n",
    "            break\n",
    "        frames.append(cv2.cvtColor(frame, cv2.COLOR_BGR2RGB))\n",
    "\n",
    "    mask_frames = []\n",
    "    while True:\n",
    "        ret, frame = mask_capture.read()\n",
    "        if not ret:\n",
    "            break\n",
    "        mask_frames.append(cv2.cvtColor(frame, cv2.COLOR_BGR2GRAY))\n",
    "\n",
    "    video_capture.release()\n",
    "    mask_capture.release()\n",
    "\n",
    "    if len(frames) != len(mask_frames):\n",
    "        raise ValueError(\"The number of frames in the video and mask must be the same.\")\n",
    "    \n",
    "\n",
    "    # load  stable diff inpainting pipeline\n",
    "    pipe = StableDiffusionInpaintPipeline.from_pretrained(\n",
    "        \"stabilityai/stable-diffusion-2-inpainting\",\n",
    "        dtype=torch.float16,\n",
    "    )\n",
    "    pipe = pipe.to(\"cuda\")\n",
    "\n",
    "    output_frames = []\n",
    "    for i in range(0, len(frames), batch_size):\n",
    "        frame_batch = frames[i:i + batch_size]\n",
    "        mask_batch = mask_frames[i:i + batch_size]\n",
    "\n",
    "        with torch.autocast(\"cuda\"):\n",
    "            output = pipe(prompt=prompt, image=frame_batch, mask_image=mask_batch).images\n",
    "        output_frames.extend(output)\n",
    "\n",
    "    # combine outputted frames back into video\n",
    "    fourcc = cv2.VideoWriter_fourcc(*'XVID')\n",
    "    out = cv2.VideoWriter(output_path, fourcc, fps, (width, height))\n",
    "\n",
    "    for frame in output_frames:\n",
    "        frame = frame.astype(np.uint8)\n",
    "        if len(frame.shape) == 2:  # convert grayscale to BGR\n",
    "            frame = cv2.cvtColor(frame, cv2.COLOR_GRAY2BGR)\n",
    "        out.write(frame)\n",
    "\n",
    "    out.release()\n",
    "    print(f\"Inpainted video saved to {output_path}\")\n",
    "\n",
    "dummy_video_path = \"out_pairs/stabilised/_Boom_Snap_Clap__challenge_clap_u_nm_np1_fr_med_1.avi\"\n",
    "dummy_mask_path = \"out_pairs/masks/_Boom_Snap_Clap__challenge_clap_u_nm_np1_fr_med_1_mask.avi\"\n",
    "output_video_path = \"outputs/output_video.avi\"\n",
    "\n",
    "inpaint_video_borders(\n",
    "    video_path=dummy_video_path,\n",
    "    mask_path=dummy_mask_path,\n",
    "    output_path=output_video_path,\n",
    "    prompt=\"inpaint the borders\",\n",
    "    batch_size=8 \n",
    ")"
   ]
  },
  {
   "cell_type": "code",
   "execution_count": null,
   "id": "d52b93b3",
   "metadata": {},
   "outputs": [],
   "source": []
  }
 ],
 "metadata": {
  "kernelspec": {
   "display_name": "cs760",
   "language": "python",
   "name": "python3"
  },
  "language_info": {
   "codemirror_mode": {
    "name": "ipython",
    "version": 3
   },
   "file_extension": ".py",
   "mimetype": "text/x-python",
   "name": "python",
   "nbconvert_exporter": "python",
   "pygments_lexer": "ipython3",
   "version": "3.12.11"
  }
 },
 "nbformat": 4,
 "nbformat_minor": 5
}
